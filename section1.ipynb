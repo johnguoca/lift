{
 "cells": [
  {
   "cell_type": "markdown",
   "metadata": {},
   "source": [
    "# Introduction\n",
    "The purpose of this notebook is to perform some basic analytics on the Yelp Academic Dataset. \n",
    "\n",
    "Data ingestion is handled using \"query_create.py\", \"load_database.py\" and \"create_views.py\". A PostgreSQL database was chosen since it has good support for JSON data, and SQL seems natural for the types of queries we will be performing."
   ]
  },
  {
   "cell_type": "code",
   "execution_count": 110,
   "metadata": {},
   "outputs": [],
   "source": [
    "# Import libraries\n",
    "import os\n",
    "import sys\n",
    "import logging\n",
    "\n",
    "# Import psycopg2 for connection to postgres via Python\n",
    "try:\n",
    "    import psycopg2 as pg\n",
    "    import psycopg2.extras\n",
    "except:\n",
    "    print( \"Install psycopg2\")\n",
    "    exit(123)\n",
    "\n",
    "# Database connection   \n",
    "PG_CONN_STRING = \"dbname='postgres' port='5432' user='postgres' password='phludphlud'\"\n",
    "dbconn = pg.connect(PG_CONN_STRING)\n",
    "cursor = dbconn.cursor()"
   ]
  },
  {
   "cell_type": "markdown",
   "metadata": {},
   "source": [
    "# Question 2\n",
    "Top 10 restaurants in Toronto with the highest popularity. Popularity is defined by number of reviews."
   ]
  },
  {
   "cell_type": "code",
   "execution_count": 2,
   "metadata": {},
   "outputs": [
    {
     "name": "stdout",
     "output_type": "stream",
     "text": [
      "[(1837, 'Pai Northern Thai Kitchen'), (1513, 'Banh Mi Boys'), (1443, 'Starbucks'), (1336, 'Khao San Road'), (1306, 'KINKA IZAKAYA ORIGINAL'), (1061, 'Terroni'), (1056, \"The Burger's Priest\"), (1048, 'Seven Lives Tacos Y Mariscos'), (967, 'La Carnita'), (940, \"Jack Astor's Bar & Grill\")]\n"
     ]
    }
   ],
   "source": [
    "cursor.execute(\"\"\"\n",
    "               SELECT count(r.review_id), b.name FROM \n",
    "               (SELECT * FROM business_view \n",
    "               WHERE business_view.city = 'Toronto'\n",
    "               ) b\n",
    "               INNER JOIN review_view r\n",
    "               ON b.business_id = r.business_id\n",
    "               GROUP BY b.name\n",
    "               order by count DESC\n",
    "               LIMIT 10;\n",
    "               \"\"\")\n",
    "print(cursor.fetchall())"
   ]
  },
  {
   "cell_type": "markdown",
   "metadata": {},
   "source": [
    "# Question 3\n",
    "Number of Canadian residents who reviewed Mon Ami Gabi in past year. Since user's location of residence is not provided, the location where they have the most reviews will be assumed to be their place of residence."
   ]
  },
  {
   "cell_type": "code",
   "execution_count": 113,
   "metadata": {},
   "outputs": [
    {
     "data": {
      "text/plain": [
       "[(19,)]"
      ]
     },
     "execution_count": 113,
     "metadata": {},
     "output_type": "execute_result"
    }
   ],
   "source": [
    "# Reviews grouped by user and then by province\n",
    "cursor.execute(\"\"\"\n",
    "                WITH q as (\n",
    "                WITH a as (\n",
    "                SELECT b.state as state, r.user_id as user_id, COUNT(*) as count FROM review_view r\n",
    "                LEFT JOIN business_view b\n",
    "                ON r.business_id = b.business_id                \n",
    "                GROUP BY r.user_id, b.state)                \n",
    "                SELECT * FROM \n",
    "                (SELECT ROW_NUMBER() OVER (PARTITION BY user_id ORDER BY count) AS r,\n",
    "                a.*\n",
    "                FROM a) x\n",
    "                WHERE x.r <= 1)\n",
    "                SELECT count(*) FROM review_view r\n",
    "                LEFT JOIN q\n",
    "                ON r.user_id = q.user_id\n",
    "                WHERE r.business_id = '4JNXUYY8wbaaDmk3BPzlWw' AND r.date > '2017-08-21' AND q.state IN ('BC', 'AB', 'ON', 'QC')\n",
    "                \"\"\")\n",
    "cursor.fetchall()"
   ]
  },
  {
   "cell_type": "markdown",
   "metadata": {},
   "source": [
    "# Question 4\n",
    "Most common words in reviews of Chipotle Mexican Grill."
   ]
  },
  {
   "cell_type": "code",
   "execution_count": 117,
   "metadata": {},
   "outputs": [
    {
     "name": "stdout",
     "output_type": "stream",
     "text": [
      "['in', 'it', 'was', 'of', 'is', 'a', 'to', 'and', 'I', 'the']\n"
     ]
    }
   ],
   "source": [
    "cursor.execute(\"\"\"\n",
    "               SELECT r.text FROM \n",
    "               business_view b\n",
    "               INNER JOIN review_view r\n",
    "               ON b.business_id = r.business_id\n",
    "               WHERE b.name = 'Chipotle Mexican Grill'\n",
    "               \n",
    "               \n",
    "               \"\"\")\n",
    "reviews = cursor.fetchall()\n",
    "\n",
    "word_count = {}\n",
    "\n",
    "for i in reviews:\n",
    "    text = i[0]\n",
    "    text = text.translate({ord(c): None for c in '!@#$.,\"'})\n",
    "    text = text.split()\n",
    "    for word in text:\n",
    "        if word in word_count:\n",
    "            word_count[word] += 1\n",
    "        else:\n",
    "            word_count[word] = 1\n",
    "\n",
    "print(sorted(word_count, key=word_count.__getitem__)[-10:])"
   ]
  },
  {
   "cell_type": "markdown",
   "metadata": {},
   "source": [
    "# Question 5\n",
    "Percentage of viewers who reviewed Mon Ami Gabi who also reviewed at least 10 restaurants in Toronto."
   ]
  },
  {
   "cell_type": "code",
   "execution_count": 8,
   "metadata": {},
   "outputs": [
    {
     "name": "stdout",
     "output_type": "stream",
     "text": [
      "The number of total Mon Ami Gabi reviewers is 7968.\n",
      "The number of Mon Ami Gabi reviewers who also reviewed at least 10 restaurants in Ontario is 70.\n",
      "The percentage is 0.88%\n"
     ]
    }
   ],
   "source": [
    "cursor.execute(\"\"\"\n",
    "               WITH mag_reviewers as\n",
    "               (\n",
    "               SELECT r.user_id as u_id FROM review_view r\n",
    "               LEFT JOIN users_view u\n",
    "               ON r.user_id = u.user_id\n",
    "               WHERE r.business_id = '4JNXUYY8wbaaDmk3BPzlWw'\n",
    "               )              \n",
    "               \n",
    "               SELECT COUNT (DISTINCT u_id) FROM mag_reviewers;                            \n",
    "               \"\"\")\n",
    "\n",
    "number_mag_reviewers = cursor.fetchone()[0]\n",
    "print(\"The number of total Mon Ami Gabi reviewers is {}.\".format(number_mag_reviewers))\n",
    "cursor.execute(\"\"\"\n",
    "               WITH mag_reviewers as\n",
    "               (\n",
    "               SELECT r.user_id as u_id, u.name as name FROM review_view r\n",
    "               LEFT JOIN users_view u\n",
    "               ON r.user_id = u.user_id\n",
    "               WHERE r.business_id = '4JNXUYY8wbaaDmk3BPzlWw'\n",
    "               ) \n",
    "               SELECT count(*) FROM mag_reviewers\n",
    "               INNER JOIN\n",
    "               (\n",
    "               SELECT count(u.user_id), u.user_id AS u_id\n",
    "               FROM users_view u\n",
    "               LEFT JOIN \n",
    "               (SELECT r.user_id AS u_id FROM review_view r\n",
    "               LEFT JOIN business_view b\n",
    "               ON r.business_id = b.business_id  \n",
    "               WHERE b.state = 'ON'\n",
    "               ) e1\n",
    "               ON u.user_id = e1.u_id\n",
    "               GROUP BY u.user_id\n",
    "               HAVING count(u.name) > 10\n",
    "               ) ont_reviews\n",
    "               ON mag_reviewers.u_id = ont_reviews.u_id\n",
    "               \n",
    "               \"\"\")\n",
    "\n",
    "number_mag_reviewers_ON10 = cursor.fetchone()[0]\n",
    "print(\"The number of Mon Ami Gabi reviewers who also reviewed at least 10 restaurants in Ontario is {}.\".format(number_mag_reviewers_ON10))\n",
    "\n",
    "print(\"The percentage is {:.2f}%\".format(number_mag_reviewers_ON10/number_mag_reviewers * 100))"
   ]
  },
  {
   "cell_type": "markdown",
   "metadata": {},
   "source": [
    "# Question 6\n",
    "Two additional analytics that could be helpful to Business Owners:\n",
    "\n",
    "1. Does the previous number of check-ins at a given time predict the future number of check-ins or customers at the same time? (Helps the business with inventory, staffing, etc.)\n",
    "\n",
    "2. What is the average review of a certain type of food (i.e. Mexican, Chinese, etc.) given neighbourhood or latitude/longitude? (Allows a business to identify possible locations for opening another store)\n"
   ]
  }
 ],
 "metadata": {
  "kernelspec": {
   "display_name": "Python 3",
   "language": "python",
   "name": "python3"
  },
  "language_info": {
   "codemirror_mode": {
    "name": "ipython",
    "version": 3
   },
   "file_extension": ".py",
   "mimetype": "text/x-python",
   "name": "python",
   "nbconvert_exporter": "python",
   "pygments_lexer": "ipython3",
   "version": "3.5.4"
  }
 },
 "nbformat": 4,
 "nbformat_minor": 2
}
